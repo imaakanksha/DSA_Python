{
 "cells": [
  {
   "cell_type": "markdown",
   "metadata": {},
   "source": [
    "DATA STRUCTURES : Data Structures are used to organize, store and manage data for efficient access and modification.\n",
    "\n",
    "TYPES OF DATA STRUCTURES IN PYTHON:\n",
    "\n",
    "BUILT-IN DATA STRUCTURES :\n",
    "1) LIST\n",
    "2) TUPLE\n",
    "3) SET\n",
    "4) DICTIONARY\n",
    "\n",
    "USER-DEFINED DATA STRUCTURES\n",
    "1) STACK\n",
    "2) QUEUE\n",
    "3) TREE\n",
    "4) LINKEDLIST\n",
    "5) GRAPH\n",
    "6) HASHMAP"
   ]
  },
  {
   "cell_type": "markdown",
   "metadata": {},
   "source": [
    "BUILT-IN DATA STRUCTURES IN PYTHON\n",
    "\n",
    "LIST : List can have heterogenous data types in them. Lists are mutable."
   ]
  },
  {
   "cell_type": "code",
   "execution_count": 18,
   "metadata": {},
   "outputs": [
    {
     "name": "stdout",
     "output_type": "stream",
     "text": [
      "[1, 2, 3, 4, 5, 6, 7, 'akanksha', 'pratiksha']\n",
      "[1, 2, 3, 4, 5, 6, 7, 'akanksha', 'pratiksha', (2, 0)]\n",
      "[1, 2, 3, 4, 5, 6, 7, 'akanksha', 'pratiksha', (2, 0), 2, 0]\n",
      "[1, 2, 3, 4, 'sakshi', 5, 6, 7, 'akanksha', 'pratiksha', (2, 0), 2, 0]\n",
      "[1, 2, 3, 'sakshi', 5, 6, 7, 'akanksha', 'pratiksha', (2, 0), 2, 0]\n",
      "3\n",
      "[1, 2, 'sakshi', 5, 6, 7, 'akanksha', 'pratiksha', (2, 0), 2, 0]\n",
      "[2, 'sakshi', 5, 6, 7, 'akanksha', 'pratiksha', (2, 0), 2, 0]\n",
      "[2, 'sakshi', 5, 6, 7]\n",
      "[2, 5, 7, 'pratiksha']\n",
      "[0, 2, (2, 0), 'pratiksha', 'akanksha', 7, 6, 5, 'sakshi', 2]\n",
      "[1, 2, 2, 5, 9, 33, 45, 64, 90, 99, 435, 657]\n",
      "[9, 2, 1, 5, 99, 33, 2, 45, 64, 90, 435, 657]\n",
      "[657, 435, 99, 90, 64, 45, 33, 9, 5, 2, 2, 1]\n",
      "9\n",
      "2\n"
     ]
    }
   ],
   "source": [
    "list1=[1,2,3,4,5,6,7,'akanksha','pratiksha']\n",
    "print(list1)\n",
    "# append(), extend(), and insert()\n",
    "\n",
    "list1.append((2,0))\n",
    "print(list1)\n",
    "list1.extend((2,0))\n",
    "print(list1)\n",
    "list1.insert(4,'sakshi')\n",
    "print(list1)\n",
    "\n",
    "#del, pop(), remove\n",
    "\n",
    "del list1[3]\n",
    "print(list1)\n",
    "\n",
    "a = list1.pop(2)\n",
    "print(a)\n",
    "print(list1)\n",
    "\n",
    "list1.remove(1)\n",
    "print(list1)\n",
    "\n",
    "print(list1[0:5])\n",
    "print(list1[0:8:2])\n",
    "print(list1[::-1])\n",
    "\n",
    "# Difference between sort() and sorted\n",
    "\n",
    "list2=[9,2,1,5,99,33,2,45,64,90,435,657]\n",
    "print(sorted(list2))\n",
    "print(list2)\n",
    "list2.sort(reverse=True)\n",
    "print(list2)\n",
    "print(list2.index(2))\n",
    "print(list2.count(2))"
   ]
  },
  {
   "cell_type": "markdown",
   "metadata": {},
   "source": [
    "TUPLE :  Tuple is same as Lists but not mutable. Tuple is faster than List."
   ]
  },
  {
   "cell_type": "code",
   "execution_count": 21,
   "metadata": {},
   "outputs": [
    {
     "name": "stdout",
     "output_type": "stream",
     "text": [
      "(1, 2, 3, 4, 5, 6, 7)\n",
      "(1, 2, 3, 4, 5, 6, 7, 8, 9, 10, 11, 12)\n"
     ]
    }
   ],
   "source": [
    "tuple1=(1,2,3,4,5,6,7)\n",
    "print(tuple1)\n",
    "\n",
    "tuple2=tuple1 + (8,9,10,11,12)\n",
    "print(tuple2)"
   ]
  },
  {
   "cell_type": "markdown",
   "metadata": {},
   "source": [
    "DICTIONARY: Dictionary hold key, value pairs. Dictonaries are mutable."
   ]
  },
  {
   "cell_type": "code",
   "execution_count": 32,
   "metadata": {},
   "outputs": [
    {
     "name": "stdout",
     "output_type": "stream",
     "text": [
      "{1: 'summi', 2: 'akanksha', 3: 'pratiksha', 4: 'sakshi'}\n",
      "dict_keys([1, 2, 3, 4])\n",
      "dict_values(['summi', 'akanksha', 'pratiksha', 'sakshi'])\n",
      "dict_items([(1, 'summi'), (2, 'akanksha'), (3, 'pratiksha'), (4, 'sakshi')])\n",
      "{1: 'Don', 2: 'akanksha', 3: 'pratiksha', 4: 'sakshi'}\n",
      "{1: 'Don', 2: 'akanksha', 3: 'pratiksha', 4: 'sakshi', 5: 'Ashoka'}\n",
      "{2: 'akanksha', 3: 'pratiksha', 4: 'sakshi', 5: 'Ashoka'}\n",
      "akanksha\n",
      "{3: 'pratiksha', 4: 'sakshi', 5: 'Ashoka'}\n",
      "(5, 'Ashoka')\n",
      "{3: 'pratiksha', 4: 'sakshi'}\n"
     ]
    }
   ],
   "source": [
    "dict1={1:'summi',2:'akanksha',3:'pratiksha',4:'sakshi'}\n",
    "print(dict1)\n",
    "\n",
    "print(dict1.keys())\n",
    "print(dict1.values())\n",
    "print(dict1.items())\n",
    "\n",
    "dict1[1]='Don'\n",
    "print(dict1)\n",
    "\n",
    "dict1[5]='Ashoka'\n",
    "print(dict1)\n",
    "\n",
    "del dict1[1]\n",
    "print(dict1)\n",
    "\n",
    "print(dict1.pop(2))\n",
    "print(dict1)\n",
    "\n",
    "print(dict1.popitem())\n",
    "print(dict1)"
   ]
  },
  {
   "cell_type": "markdown",
   "metadata": {},
   "source": [
    "SET : Set is un-ordered collection of unique elements. Sets are mutable."
   ]
  },
  {
   "cell_type": "code",
   "execution_count": 37,
   "metadata": {},
   "outputs": [
    {
     "name": "stdout",
     "output_type": "stream",
     "text": [
      "{1, 2, 3, 4, 5, 6, 67, 7, 55, 665}\n",
      "{1, 2, 3, 4, 5, 6, 67, 7, 1000, 55, 665}\n",
      "{1, 2, 3, 4, 5, 6, 67, 7, 3333, 10, 11, 12, 22, 665, 1000, 53, 55}\n",
      "{1, 2, 3, 4, 5}\n",
      "{67, 6, 7, 1000, 55, 665}\n",
      "{67, 3333, 6, 7, 1000, 10, 11, 12, 53, 22, 55, 665}\n"
     ]
    }
   ],
   "source": [
    "set1={1,2,2,3,3,3,3,3,4,4,4,4,4,4,5,5,5,6,67,7,7,7,7,7,7,6,665,5,5,55}\n",
    "print(set1)\n",
    "\n",
    "set1.add(1000)\n",
    "print(set1)\n",
    "\n",
    "# union(), intersection(), difference(), symmetric_difference()\n",
    "\n",
    "set2={10,11,12,12,2,1,2,3,4,5,53,22,3333}\n",
    "print(set1.union(set2))\n",
    "print(set1.intersection(set2))\n",
    "print(set1.difference(set2))\n",
    "print(set1.symmetric_difference(set2))"
   ]
  }
 ],
 "metadata": {
  "kernelspec": {
   "display_name": "Python 3",
   "language": "python",
   "name": "python3"
  },
  "language_info": {
   "codemirror_mode": {
    "name": "ipython",
    "version": 3
   },
   "file_extension": ".py",
   "mimetype": "text/x-python",
   "name": "python",
   "nbconvert_exporter": "python",
   "pygments_lexer": "ipython3",
   "version": "3.12.4"
  }
 },
 "nbformat": 4,
 "nbformat_minor": 2
}
